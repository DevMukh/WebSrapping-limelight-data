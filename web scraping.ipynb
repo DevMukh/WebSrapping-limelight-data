{
 "cells": [
  {
   "cell_type": "code",
   "execution_count": 153,
   "id": "0815c462",
   "metadata": {},
   "outputs": [],
   "source": [
    "from bs4 import BeautifulSoup\n",
    "import requests\n",
    "import smtplib\n",
    "import time\n",
    "import datetime"
   ]
  },
  {
   "cell_type": "code",
   "execution_count": 154,
   "id": "78ee9859",
   "metadata": {},
   "outputs": [],
   "source": [
    "#there we first connect with website\n",
    "url=\"https://www.limelight.pk/\"\n",
    "headers = {\"User-Agent\": \"Mozilla/5.0 (Windows NT 10.0; Win64; x64) AppleWebKit/537.36 (KHTML, like Gecko) Chrome/78.0.3904.108 Safari/537.36\", \"Accept-Encoding\":\"gzip, deflate\", \"Accept\":\"text/html,application/xhtml+xml,application/xml;q=0.9,*/*;q=0.8\", \"DNT\":\"1\",\"Connection\":\"close\", \"Upgrade-Insecure-Requests\":\"1\"}\n",
    "page=requests.get(url, headers=headers)\n",
    "soup=BeautifulSoup(page.content,\"html.parser\")\n",
    "soup2=BeautifulSoup(soup.prettify(),\"html.parser\")"
   ]
  },
  {
   "cell_type": "code",
   "execution_count": 155,
   "id": "29f2802b",
   "metadata": {},
   "outputs": [],
   "source": [
    "prices= soup2.find('div',{'id':'CollectionProductGrid'})\n",
    "total_p=prices.find_all(class_=\"price__regular\")"
   ]
  },
  {
   "cell_type": "code",
   "execution_count": 156,
   "id": "c07aaf1f",
   "metadata": {},
   "outputs": [
    {
     "name": "stdout",
     "output_type": "stream",
     "text": [
      "https://www.limelight.pk/cdn/shop/files/DSC_0891_b8637273-b378-4452-aa2c-a6e49722bba7_330x.jpg?v=1699009025\n",
      "https://www.limelight.pk/cdn/shop/files/DSC07263_14ef7cce-b0c9-40b4-822a-17dcd8ccf30d_330x.jpg?v=1701863048\n",
      "https://www.limelight.pk/cdn/shop/files/DSC09165_330x.jpg?v=1701322842\n",
      "https://www.limelight.pk/cdn/shop/files/DSC08192_f88e393e-5c56-4e28-ba30-767379345385_330x.jpg?v=1701671639\n",
      "https://www.limelight.pk/cdn/shop/files/DSC_2952_a28a6f88-4215-491e-8827-b4f1e94857d0_330x.jpg?v=1697442262\n",
      "https://www.limelight.pk/cdn/shop/files/DSC08073_330x.jpg?v=1701067463\n",
      "https://www.limelight.pk/cdn/shop/files/DSC_2563_d9dba906-ded7-4018-8478-72cc80ea3aa0_330x.jpg?v=1701839508\n",
      "https://www.limelight.pk/cdn/shop/files/DSC03176_330x.jpg?v=1701690293\n",
      "https://www.limelight.pk/cdn/shop/files/DSC09985_4d902298-e11c-4afa-843b-9e8c3cfb3602_330x.jpg?v=1701848439\n",
      "https://www.limelight.pk/cdn/shop/files/DSC03906_1_330x.jpg?v=1700725700\n",
      "https://www.limelight.pk/cdn/shop/files/DSC09140_330x.jpg?v=1701322723\n",
      "https://www.limelight.pk/cdn/shop/files/DSC_2541_2b4a7d5d-c9c3-4b9f-9c18-5b1758b1a56e_330x.jpg?v=1701839494\n",
      "https://www.limelight.pk/cdn/shop/files/DSC00848_d9d8e9ff-c2e0-4c05-afa0-ece779efa6f3_330x.jpg?v=1701766178\n",
      "https://www.limelight.pk/cdn/shop/files/DSC09066_330x.jpg?v=1701322698\n",
      "https://www.limelight.pk/cdn/shop/files/DSC01533_330x.jpg?v=1701162798\n",
      "https://www.limelight.pk/cdn/shop/files/DSC07497_330x.jpg?v=1701340903\n",
      "https://www.limelight.pk/cdn/shop/files/DSC_2527_fc4b5516-ba5f-4497-96dd-e2dabceb8812_330x.jpg?v=1701839498\n",
      "https://www.limelight.pk/cdn/shop/files/DSC08110_330x.jpg?v=1701163186\n",
      "https://www.limelight.pk/cdn/shop/files/DSC_2595_270f4feb-e27f-4b8d-be9d-935079d6b76f_330x.jpg?v=1701839489\n",
      "https://www.limelight.pk/cdn/shop/files/DSC06152_330x.jpg?v=1701863682\n",
      "https://www.limelight.pk/cdn/shop/files/DSC_2913_794076e2-95d1-4aea-aab8-edbb5aea7eb6_330x.jpg?v=1697287398\n",
      "https://www.limelight.pk/cdn/shop/files/DSC_1054_2d4f58dc-bcfa-4cd3-944f-4b71890a2768_330x.jpg?v=1701074924\n",
      "https://www.limelight.pk/cdn/shop/files/DSC04064_1_330x.jpg?v=1700206437\n",
      "https://www.limelight.pk/cdn/shop/files/DSC01785_09e42b15-19f9-4089-a1f0-3fcb29fb097c_330x.jpg?v=1701427980\n",
      "https://www.limelight.pk/cdn/shop/files/DSC_0896_998cad42-aeda-40a8-9780-bd8b029a52be_330x.jpg?v=1699340352\n",
      "https://www.limelight.pk/cdn/shop/files/DSC02271_330x.jpg?v=1701168256\n",
      "https://www.limelight.pk/cdn/shop/files/DSC08492_330x.jpg?v=1701170313\n",
      "https://www.limelight.pk/cdn/shop/files/DSC02634_330x.jpg?v=1701428051\n",
      "https://www.limelight.pk/cdn/shop/files/DSC_1068_27677e1d-5d6c-4720-9247-e45487a23f38_330x.jpg?v=1700130432\n",
      "https://www.limelight.pk/cdn/shop/files/DSC02425_330x.jpg?v=1701151845\n",
      "https://www.limelight.pk/cdn/shop/files/DSC07194_330x.jpg?v=1700904223\n",
      "https://www.limelight.pk/cdn/shop/files/DSC_3542_7de218b2-77b2-468e-a646-2dc1acf5dbca_330x.jpg?v=1698664097\n",
      "https://www.limelight.pk/cdn/shop/files/DSC05928_86da41ce-7b27-4c78-830e-2079776153a5_330x.jpg?v=1700048471\n",
      "https://www.limelight.pk/cdn/shop/files/DSC09170_3b71fdb4-1ea1-411e-a6e2-57c5769a8f40_330x.jpg?v=1701322852\n",
      "https://www.limelight.pk/cdn/shop/files/DSC06456_330x.jpg?v=1700045111\n",
      "https://www.limelight.pk/cdn/shop/files/LP084_330x.jpg?v=1700040291\n",
      "https://www.limelight.pk/cdn/shop/files/DSC00959_330x.jpg?v=1701168012\n",
      "https://www.limelight.pk/cdn/shop/files/DSC04281_1_330x.jpg?v=1700204660\n",
      "https://www.limelight.pk/cdn/shop/files/DSC02710_7096b8a2-f3db-4707-a624-316859a7667f_330x.jpg?v=1701428093\n",
      "https://www.limelight.pk/cdn/shop/files/DSC03254_330x.jpg?v=1701669288\n",
      "https://www.limelight.pk/cdn/shop/files/DSC09803_330x.jpg?v=1701064825\n",
      "https://www.limelight.pk/cdn/shop/files/DSC05713_1_2fea8ba8-47bb-406f-a7a4-12a7dfcc4af0_330x.jpg?v=1699868062\n",
      "https://www.limelight.pk/cdn/shop/files/DSC08011_c8cf35d6-e65f-42e0-b21a-6c76101cdebe_330x.jpg?v=1701170922\n",
      "https://www.limelight.pk/cdn/shop/files/DSC05893_330x.jpg?v=1700039173\n",
      "https://www.limelight.pk/cdn/shop/files/DSC05031_330x.jpg?v=1699941962\n",
      "https://www.limelight.pk/cdn/shop/files/DSC_0390_a4ff2c8d-3aea-4bf8-a22f-8faed5c2868f_330x.jpg?v=1698731246\n",
      "https://www.limelight.pk/cdn/shop/files/DSC04857-copy_330x.jpg?v=1699874546\n",
      "https://www.limelight.pk/cdn/shop/files/DSC00183_330x.jpg?v=1698665539\n"
     ]
    }
   ],
   "source": [
    "#here we extract all the images of winter collections\n",
    "pictures_div = soup2.find('div',{'id':'CollectionProductGrid'})\n",
    "inner_pic=pictures_div.find_all(class_=\"dev product-img-main\")\n",
    "\n",
    "for img in inner_pic:\n",
    "    img_tag=img.find('img')\n",
    "    img_src=img_tag.get('src')\n",
    "    if img_src[:1]=='/':\n",
    "        image='https:'+img_src\n",
    "    else:\n",
    "        image=img_src\n",
    "    print(image)"
   ]
  },
  {
   "cell_type": "code",
   "execution_count": 157,
   "id": "28244705",
   "metadata": {},
   "outputs": [],
   "source": [
    "desc=soup2.find('div',{'id':'CollectionProductGrid'})\n",
    "descr=desc.find_all(class_=\"card-information__text h5\")"
   ]
  },
  {
   "cell_type": "code",
   "execution_count": 158,
   "id": "e3d203bb",
   "metadata": {},
   "outputs": [],
   "source": [
    "card_wrappers = soup.find_all(class_=\"card-wrapper\")"
   ]
  },
  {
   "cell_type": "code",
   "execution_count": 159,
   "id": "38676730",
   "metadata": {},
   "outputs": [],
   "source": [
    "from csv import writer\n",
    "from itertools import zip_longest"
   ]
  },
  {
   "cell_type": "code",
   "execution_count": 160,
   "id": "96e903d6",
   "metadata": {},
   "outputs": [],
   "source": [
    "try:\n",
    "    with open(\"data.csv\", \"w\", newline=\"\", encoding=\"utf8\") as f:\n",
    "        thewriter = csv.writer(f)\n",
    "        \n",
    "        # Writing header\n",
    "        header = [\"Description\", \"Color\", \"Price\", \"Image Source\"]\n",
    "        thewriter.writerow(header)\n",
    "        for des,price,color,img in zip_longest(\n",
    "        total_p,descr,card_wrappers,inner_pic\n",
    "        ):\n",
    "            desc_text=des.get_text(strip=True) if des else None\n",
    "            t_price=price.get_text(strip=True) if price else None\n",
    "            images=img.find('img').get('src') if img else None\n",
    "            image = f\"https:{images}\" if images and images[:1] == \"/\" else images\n",
    "            \n",
    "            color=color.get(\"data-color-variants\") if color else None\n",
    "            \n",
    "            \n",
    "        # Writing data\n",
    "            collected_data = [t_price, color,desc_text, image]\n",
    "            thewriter.writerow(collected_data)\n",
    "\n",
    "except PermissionError as e:\n",
    "    print(f\"PermissionError: {e}\")\n",
    "except Exception as e:\n",
    "    print(f\"An error occurred: {e}\")\n"
   ]
  },
  {
   "cell_type": "code",
   "execution_count": null,
   "id": "2200f9da",
   "metadata": {},
   "outputs": [],
   "source": []
  },
  {
   "cell_type": "code",
   "execution_count": null,
   "id": "5cb9df38",
   "metadata": {},
   "outputs": [],
   "source": []
  }
 ],
 "metadata": {
  "kernelspec": {
   "display_name": "Python 3 (ipykernel)",
   "language": "python",
   "name": "python3"
  },
  "language_info": {
   "codemirror_mode": {
    "name": "ipython",
    "version": 3
   },
   "file_extension": ".py",
   "mimetype": "text/x-python",
   "name": "python",
   "nbconvert_exporter": "python",
   "pygments_lexer": "ipython3",
   "version": "3.11.4"
  }
 },
 "nbformat": 4,
 "nbformat_minor": 5
}
